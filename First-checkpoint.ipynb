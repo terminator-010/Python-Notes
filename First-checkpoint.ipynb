{
 "cells": [
  {
   "cell_type": "code",
   "execution_count": 1,
   "id": "2c8fd8df-91f1-41f6-8e36-1d2e93ace43b",
   "metadata": {},
   "outputs": [],
   "source": [
    "list1=[]\n"
   ]
  },
  {
   "cell_type": "code",
   "execution_count": 2,
   "id": "1fc8ca3d-d4d7-43cf-a2f2-8dd2dfa95946",
   "metadata": {},
   "outputs": [
    {
     "name": "stdout",
     "output_type": "stream",
     "text": [
      "<class 'list'>\n"
     ]
    }
   ],
   "source": [
    "print(type(list1))"
   ]
  },
  {
   "cell_type": "code",
   "execution_count": 3,
   "id": "e7b565c5-c465-4bd2-9c69-b61e9473197f",
   "metadata": {},
   "outputs": [],
   "source": [
    "list2= [10,30,60]"
   ]
  },
  {
   "cell_type": "code",
   "execution_count": 4,
   "id": "05439a9f-46df-43c1-ad78-882391bb3652",
   "metadata": {},
   "outputs": [
    {
     "name": "stdout",
     "output_type": "stream",
     "text": [
      "[10, 30, 60]\n"
     ]
    }
   ],
   "source": [
    "print(list2)"
   ]
  },
  {
   "cell_type": "code",
   "execution_count": 5,
   "id": "2281f154-ddeb-42bc-a139-dc15be39385e",
   "metadata": {},
   "outputs": [],
   "source": [
    "list3= [\"Asif\", 25, [50,100],[150,90]]"
   ]
  },
  {
   "cell_type": "code",
   "execution_count": 6,
   "id": "e11f5f71-8411-4ac7-b17c-216710cf6b00",
   "metadata": {},
   "outputs": [
    {
     "name": "stdout",
     "output_type": "stream",
     "text": [
      "['Asif', 25, [50, 100], [150, 90]]\n"
     ]
    }
   ],
   "source": [
    "print(list3)"
   ]
  },
  {
   "cell_type": "code",
   "execution_count": 7,
   "id": "28477693-85c0-468c-8192-a2d2e66d52cf",
   "metadata": {},
   "outputs": [
    {
     "data": {
      "text/plain": [
       "4"
      ]
     },
     "execution_count": 7,
     "metadata": {},
     "output_type": "execute_result"
    }
   ],
   "source": [
    "len(list3)"
   ]
  },
  {
   "cell_type": "code",
   "execution_count": 8,
   "id": "5835b963-8192-4b30-acac-5a93e982e15a",
   "metadata": {},
   "outputs": [
    {
     "name": "stdout",
     "output_type": "stream",
     "text": [
      "Asif\n"
     ]
    }
   ],
   "source": [
    "print(list3[0])"
   ]
  },
  {
   "cell_type": "code",
   "execution_count": 10,
   "id": "385960be-8fa6-44ad-bd90-0f264002435b",
   "metadata": {},
   "outputs": [
    {
     "name": "stdout",
     "output_type": "stream",
     "text": [
      "<class 'str'>\n"
     ]
    }
   ],
   "source": [
    "print(type(list3[0]))"
   ]
  },
  {
   "cell_type": "code",
   "execution_count": 11,
   "id": "e44ffdb4-a868-4f73-84e5-9eaad1314974",
   "metadata": {},
   "outputs": [
    {
     "data": {
      "text/plain": [
       "list[2]"
      ]
     },
     "execution_count": 11,
     "metadata": {},
     "output_type": "execute_result"
    }
   ],
   "source": [
    "list[2]"
   ]
  },
  {
   "cell_type": "code",
   "execution_count": 12,
   "id": "9d233695-7e0f-411a-bc9d-4835a560b7f5",
   "metadata": {},
   "outputs": [
    {
     "name": "stdout",
     "output_type": "stream",
     "text": [
      "[50, 100]\n"
     ]
    }
   ],
   "source": [
    "print(list3[2])"
   ]
  },
  {
   "cell_type": "code",
   "execution_count": 14,
   "id": "a0dc3ff4-be70-4d8f-85b7-619ab4c44f51",
   "metadata": {},
   "outputs": [
    {
     "name": "stdout",
     "output_type": "stream",
     "text": [
      "50\n"
     ]
    }
   ],
   "source": [
    "print(list3[2][0])"
   ]
  },
  {
   "cell_type": "code",
   "execution_count": 15,
   "id": "cdb6a2ab-8ebe-4f77-b433-ca5e490f6698",
   "metadata": {},
   "outputs": [],
   "source": [
    "list7= [\"Asif\", 25, [50,100],[150,90],{'John','David'}]"
   ]
  },
  {
   "cell_type": "code",
   "execution_count": 17,
   "id": "27b2d735-df6e-40a7-b52b-9db1564dbdc3",
   "metadata": {},
   "outputs": [
    {
     "name": "stdout",
     "output_type": "stream",
     "text": [
      "<class 'set'>\n"
     ]
    }
   ],
   "source": [
    "print(type(list7[4]))"
   ]
  },
  {
   "cell_type": "code",
   "execution_count": 20,
   "id": "3e850ea0-6d82-4313-9828-b5608af82b21",
   "metadata": {},
   "outputs": [],
   "source": [
    "List4=[1,2,3,4,5,6,7,8,9]\n",
    "\n"
   ]
  },
  {
   "cell_type": "code",
   "execution_count": 21,
   "id": "32f73d36-7f28-471f-b397-6dc8e1ea5baf",
   "metadata": {},
   "outputs": [
    {
     "name": "stdout",
     "output_type": "stream",
     "text": [
      "[4, 6, 8]\n"
     ]
    }
   ],
   "source": [
    "print(List4[3:9:2])"
   ]
  },
  {
   "cell_type": "code",
   "execution_count": 22,
   "id": "3faa1d53-4e12-4c4e-941f-658f843829fa",
   "metadata": {},
   "outputs": [
    {
     "name": "stdout",
     "output_type": "stream",
     "text": [
      "[1, 3, 5, 7, 9]\n"
     ]
    }
   ],
   "source": [
    "print(List4[::2])"
   ]
  },
  {
   "cell_type": "code",
   "execution_count": 23,
   "id": "71b7c8aa-4daa-4560-9304-006131d3af72",
   "metadata": {},
   "outputs": [],
   "source": [
    "list7.append('Any')"
   ]
  },
  {
   "cell_type": "code",
   "execution_count": 24,
   "id": "b09fa208-fb12-4f02-a939-0c5cbfa70919",
   "metadata": {},
   "outputs": [
    {
     "data": {
      "text/plain": [
       "['Asif', 25, [50, 100], [150, 90], {'David', 'John'}, 'Any']"
      ]
     },
     "execution_count": 24,
     "metadata": {},
     "output_type": "execute_result"
    }
   ],
   "source": [
    "list7"
   ]
  },
  {
   "cell_type": "code",
   "execution_count": 25,
   "id": "953de62a-423a-47d8-98e5-9cb6acb29816",
   "metadata": {},
   "outputs": [],
   "source": [
    "list7.insert(7,'Tell')"
   ]
  },
  {
   "cell_type": "code",
   "execution_count": 26,
   "id": "dfccc977-45ee-42b7-8e77-2ed59e04f0ae",
   "metadata": {},
   "outputs": [
    {
     "data": {
      "text/plain": [
       "['Asif', 25, [50, 100], [150, 90], {'David', 'John'}, 'Any', 'Tell']"
      ]
     },
     "execution_count": 26,
     "metadata": {},
     "output_type": "execute_result"
    }
   ],
   "source": [
    "list7"
   ]
  },
  {
   "cell_type": "code",
   "execution_count": 27,
   "id": "17cc827f-267b-49b5-b85e-9002cfe8a239",
   "metadata": {},
   "outputs": [],
   "source": [
    "list7.insert(6,'Me')"
   ]
  },
  {
   "cell_type": "code",
   "execution_count": 28,
   "id": "073c8d3b-6c07-4234-a189-35ff0834aeeb",
   "metadata": {},
   "outputs": [
    {
     "data": {
      "text/plain": [
       "['Asif', 25, [50, 100], [150, 90], {'David', 'John'}, 'Any', 'Me', 'Tell']"
      ]
     },
     "execution_count": 28,
     "metadata": {},
     "output_type": "execute_result"
    }
   ],
   "source": [
    "list7"
   ]
  },
  {
   "cell_type": "code",
   "execution_count": 29,
   "id": "b353281b-c76b-4389-bffc-37539bd343ca",
   "metadata": {},
   "outputs": [],
   "source": [
    "list7.remove('Me')"
   ]
  },
  {
   "cell_type": "code",
   "execution_count": 30,
   "id": "a37fb00f-48a9-4ca8-bbb4-b107dc33b808",
   "metadata": {},
   "outputs": [
    {
     "data": {
      "text/plain": [
       "['Asif', 25, [50, 100], [150, 90], {'David', 'John'}, 'Any', 'Tell']"
      ]
     },
     "execution_count": 30,
     "metadata": {},
     "output_type": "execute_result"
    }
   ],
   "source": [
    "list7"
   ]
  },
  {
   "cell_type": "code",
   "execution_count": 31,
   "id": "c1ec6bbc-c19b-4d4a-bf06-87ce2c2996a3",
   "metadata": {},
   "outputs": [
    {
     "data": {
      "text/plain": [
       "'Any'"
      ]
     },
     "execution_count": 31,
     "metadata": {},
     "output_type": "execute_result"
    }
   ],
   "source": [
    "list7.pop(5)"
   ]
  },
  {
   "cell_type": "code",
   "execution_count": 32,
   "id": "d8a4c4de-bbe2-4490-bd12-7ddb98dfef68",
   "metadata": {},
   "outputs": [
    {
     "data": {
      "text/plain": [
       "['Asif', 25, [50, 100], [150, 90], {'David', 'John'}, 'Tell']"
      ]
     },
     "execution_count": 32,
     "metadata": {},
     "output_type": "execute_result"
    }
   ],
   "source": [
    "list7"
   ]
  },
  {
   "cell_type": "code",
   "execution_count": 33,
   "id": "96607840-aba9-41d8-b57a-81ede983a690",
   "metadata": {},
   "outputs": [],
   "source": [
    "del list7[1]"
   ]
  },
  {
   "cell_type": "code",
   "execution_count": 34,
   "id": "d62bc951-0eb3-481b-96fd-6065cc05c5fa",
   "metadata": {},
   "outputs": [
    {
     "data": {
      "text/plain": [
       "['Asif', [50, 100], [150, 90], {'David', 'John'}, 'Tell']"
      ]
     },
     "execution_count": 34,
     "metadata": {},
     "output_type": "execute_result"
    }
   ],
   "source": [
    "list7"
   ]
  },
  {
   "cell_type": "code",
   "execution_count": 35,
   "id": "f7d50218-0161-4364-a4f1-476de7d8cf7d",
   "metadata": {},
   "outputs": [],
   "source": [
    "list7[0]='Arif'"
   ]
  },
  {
   "cell_type": "code",
   "execution_count": 36,
   "id": "9347fe40-3574-4482-9c4b-d391d926b19f",
   "metadata": {},
   "outputs": [
    {
     "data": {
      "text/plain": [
       "['Arif', [50, 100], [150, 90], {'David', 'John'}, 'Tell']"
      ]
     },
     "execution_count": 36,
     "metadata": {},
     "output_type": "execute_result"
    }
   ],
   "source": [
    "list7"
   ]
  },
  {
   "cell_type": "code",
   "execution_count": 38,
   "id": "b4afede9-ed40-4094-af0b-db88add707fc",
   "metadata": {},
   "outputs": [],
   "source": [
    "List4.clear()"
   ]
  },
  {
   "cell_type": "code",
   "execution_count": 39,
   "id": "bf91a005-75d8-433d-b402-8fdcefd406f5",
   "metadata": {},
   "outputs": [
    {
     "data": {
      "text/plain": [
       "[]"
      ]
     },
     "execution_count": 39,
     "metadata": {},
     "output_type": "execute_result"
    }
   ],
   "source": [
    "List4"
   ]
  },
  {
   "cell_type": "code",
   "execution_count": 40,
   "id": "fcef87d7-1584-4880-a09f-15d891ca4a6a",
   "metadata": {},
   "outputs": [],
   "source": [
    "del List4"
   ]
  },
  {
   "cell_type": "code",
   "execution_count": 41,
   "id": "bf5cb90b-a96d-4571-bf0c-85afc7e25e6f",
   "metadata": {},
   "outputs": [
    {
     "ename": "NameError",
     "evalue": "name 'List4' is not defined",
     "output_type": "error",
     "traceback": [
      "\u001b[1;31m---------------------------------------------------------------------------\u001b[0m",
      "\u001b[1;31mNameError\u001b[0m                                 Traceback (most recent call last)",
      "Cell \u001b[1;32mIn[41], line 1\u001b[0m\n\u001b[1;32m----> 1\u001b[0m List4\n",
      "\u001b[1;31mNameError\u001b[0m: name 'List4' is not defined"
     ]
    }
   ],
   "source": [
    "List4\n"
   ]
  },
  {
   "cell_type": "code",
   "execution_count": 42,
   "id": "8fb0754e-7e8c-4f58-9eca-8e807dd39139",
   "metadata": {},
   "outputs": [
    {
     "data": {
      "text/plain": [
       "['Arif', [50, 100], [150, 90], {'David', 'John'}, 'Tell']"
      ]
     },
     "execution_count": 42,
     "metadata": {},
     "output_type": "execute_result"
    }
   ],
   "source": [
    "list7"
   ]
  },
  {
   "cell_type": "code",
   "execution_count": 43,
   "id": "1f9b9413-b09b-48e4-94fa-416d46aa9051",
   "metadata": {},
   "outputs": [],
   "source": [
    "list71= list7.copy()"
   ]
  },
  {
   "cell_type": "code",
   "execution_count": 44,
   "id": "edf90a05-f979-4097-8d10-24973ce2a5e8",
   "metadata": {},
   "outputs": [
    {
     "data": {
      "text/plain": [
       "2018950538816"
      ]
     },
     "execution_count": 44,
     "metadata": {},
     "output_type": "execute_result"
    }
   ],
   "source": [
    "id(list71)"
   ]
  },
  {
   "cell_type": "code",
   "execution_count": 45,
   "id": "f2f2fd3e-9c59-4c64-9ad3-8cbdde958fed",
   "metadata": {},
   "outputs": [
    {
     "data": {
      "text/plain": [
       "2018949943104"
      ]
     },
     "execution_count": 45,
     "metadata": {},
     "output_type": "execute_result"
    }
   ],
   "source": [
    "id(list7)"
   ]
  },
  {
   "cell_type": "code",
   "execution_count": 46,
   "id": "ab92c905-1615-40b2-9351-bd51193bc0d4",
   "metadata": {},
   "outputs": [],
   "source": [
    "list7[1][1]=150"
   ]
  },
  {
   "cell_type": "code",
   "execution_count": 47,
   "id": "3c70d053-cd35-4cba-87d3-dbbf97f250fa",
   "metadata": {},
   "outputs": [
    {
     "data": {
      "text/plain": [
       "['Arif', [50, 150], [150, 90], {'David', 'John'}, 'Tell']"
      ]
     },
     "execution_count": 47,
     "metadata": {},
     "output_type": "execute_result"
    }
   ],
   "source": [
    "list7"
   ]
  },
  {
   "cell_type": "code",
   "execution_count": 48,
   "id": "f6712e69-9701-43fe-bb29-1caa40e86958",
   "metadata": {},
   "outputs": [
    {
     "data": {
      "text/plain": [
       "['Arif', [50, 150], [150, 90], {'David', 'John'}, 'Tell']"
      ]
     },
     "execution_count": 48,
     "metadata": {},
     "output_type": "execute_result"
    }
   ],
   "source": [
    "list71"
   ]
  },
  {
   "cell_type": "code",
   "execution_count": 49,
   "id": "33619306-727d-4647-ab30-d4b679034926",
   "metadata": {},
   "outputs": [],
   "source": [
    "list71[1][1]= 100"
   ]
  },
  {
   "cell_type": "code",
   "execution_count": 50,
   "id": "71d83669-f50f-45f8-be06-7f80f0872a8d",
   "metadata": {},
   "outputs": [],
   "source": [
    "list1= ['one','two','three','four']\n",
    "list8= ['five','six','seven','eight']"
   ]
  },
  {
   "cell_type": "code",
   "execution_count": 51,
   "id": "8015a5db-bc9e-4705-955e-06bb8e3205f6",
   "metadata": {},
   "outputs": [],
   "source": [
    "list9=list1+list8"
   ]
  },
  {
   "cell_type": "code",
   "execution_count": 52,
   "id": "e6977517-e2b9-44f9-ad66-373b9112958c",
   "metadata": {},
   "outputs": [
    {
     "data": {
      "text/plain": [
       "['one', 'two', 'three', 'four', 'five', 'six', 'seven', 'eight']"
      ]
     },
     "execution_count": 52,
     "metadata": {},
     "output_type": "execute_result"
    }
   ],
   "source": [
    "list9"
   ]
  },
  {
   "cell_type": "code",
   "execution_count": 55,
   "id": "0318ceae-4c46-49f8-8868-79c4edf0cb2c",
   "metadata": {},
   "outputs": [],
   "source": [
    "list1.extend(list8)"
   ]
  },
  {
   "cell_type": "code",
   "execution_count": 56,
   "id": "2a243f6b-f08e-4365-9203-2df97b3c67f2",
   "metadata": {},
   "outputs": [
    {
     "data": {
      "text/plain": [
       "['one', 'two', 'three', 'four', 10, 30, 60, 'five', 'six', 'seven', 'eight']"
      ]
     },
     "execution_count": 56,
     "metadata": {},
     "output_type": "execute_result"
    }
   ],
   "source": [
    "list1"
   ]
  },
  {
   "cell_type": "code",
   "execution_count": 59,
   "id": "2f923bd7-0258-43a7-9c9e-f5eba1c26d40",
   "metadata": {},
   "outputs": [
    {
     "data": {
      "text/plain": [
       "'six'"
      ]
     },
     "execution_count": 59,
     "metadata": {},
     "output_type": "execute_result"
    }
   ],
   "source": [
    "list1.pop(6)"
   ]
  },
  {
   "cell_type": "code",
   "execution_count": 60,
   "id": "9b23306f-8819-41cf-999b-b25dd8ee33e3",
   "metadata": {},
   "outputs": [
    {
     "data": {
      "text/plain": [
       "['one', 'two', 'three', 'four', 30, 'five', 'seven', 'eight']"
      ]
     },
     "execution_count": 60,
     "metadata": {},
     "output_type": "execute_result"
    }
   ],
   "source": [
    "list1"
   ]
  },
  {
   "cell_type": "code",
   "execution_count": 61,
   "id": "56fb2674-888f-43ce-9cf8-174489227bd0",
   "metadata": {},
   "outputs": [
    {
     "data": {
      "text/plain": [
       "30"
      ]
     },
     "execution_count": 61,
     "metadata": {},
     "output_type": "execute_result"
    }
   ],
   "source": [
    "list1.pop(4)"
   ]
  },
  {
   "cell_type": "code",
   "execution_count": 62,
   "id": "11432944-f695-45b2-ac67-7ea2bc8c4b16",
   "metadata": {},
   "outputs": [
    {
     "data": {
      "text/plain": [
       "['one', 'two', 'three', 'four', 'five', 'seven', 'eight']"
      ]
     },
     "execution_count": 62,
     "metadata": {},
     "output_type": "execute_result"
    }
   ],
   "source": [
    "list1"
   ]
  },
  {
   "cell_type": "code",
   "execution_count": 64,
   "id": "dcfef72b-adbc-4fff-bdc0-6980f315f9c6",
   "metadata": {},
   "outputs": [],
   "source": [
    "list1.reverse()"
   ]
  },
  {
   "cell_type": "code",
   "execution_count": 65,
   "id": "2578e66b-1e65-4c57-bb3f-4fd15c6c1fd5",
   "metadata": {},
   "outputs": [
    {
     "data": {
      "text/plain": [
       "['eight', 'seven', 'five', 'four', 'three', 'two', 'one']"
      ]
     },
     "execution_count": 65,
     "metadata": {},
     "output_type": "execute_result"
    }
   ],
   "source": [
    "list1"
   ]
  },
  {
   "cell_type": "code",
   "execution_count": 68,
   "id": "ecc955d8-801b-4b12-8cbc-7f5761cd19e3",
   "metadata": {},
   "outputs": [],
   "source": [
    "list1=list1[::-1]"
   ]
  },
  {
   "cell_type": "code",
   "execution_count": 69,
   "id": "5331ba0d-f542-4469-bed9-b4971e2577e2",
   "metadata": {},
   "outputs": [
    {
     "data": {
      "text/plain": [
       "['one', 'two', 'three', 'four', 'five', 'seven', 'eight']"
      ]
     },
     "execution_count": 69,
     "metadata": {},
     "output_type": "execute_result"
    }
   ],
   "source": [
    "list1"
   ]
  },
  {
   "cell_type": "code",
   "execution_count": 70,
   "id": "9ef2c057-4b96-4e93-bf30-cd4007b9b1d4",
   "metadata": {},
   "outputs": [],
   "source": [
    "list1.insert(5,'six')"
   ]
  },
  {
   "cell_type": "code",
   "execution_count": 71,
   "id": "5d188caa-998c-43fa-9f68-6d5017bcde41",
   "metadata": {},
   "outputs": [
    {
     "data": {
      "text/plain": [
       "['one', 'two', 'three', 'four', 'five', 'six', 'seven', 'eight']"
      ]
     },
     "execution_count": 71,
     "metadata": {},
     "output_type": "execute_result"
    }
   ],
   "source": [
    "list1"
   ]
  },
  {
   "cell_type": "code",
   "execution_count": 72,
   "id": "67fd5c21-ff05-429a-bcff-5abba5051df2",
   "metadata": {},
   "outputs": [],
   "source": [
    "list10=[10,8,6,1,3,4,9]"
   ]
  },
  {
   "cell_type": "code",
   "execution_count": 73,
   "id": "9255663f-04b1-4882-bb2c-c000bfffb913",
   "metadata": {},
   "outputs": [],
   "source": [
    "list10.sort()"
   ]
  },
  {
   "cell_type": "code",
   "execution_count": 74,
   "id": "f42d6222-03fe-478b-83cd-01e68df291e3",
   "metadata": {},
   "outputs": [
    {
     "data": {
      "text/plain": [
       "[1, 3, 4, 6, 8, 9, 10]"
      ]
     },
     "execution_count": 74,
     "metadata": {},
     "output_type": "execute_result"
    }
   ],
   "source": [
    "list10"
   ]
  },
  {
   "cell_type": "code",
   "execution_count": 75,
   "id": "3e62a884-62ba-47a7-a823-2b7832699659",
   "metadata": {},
   "outputs": [],
   "source": [
    "list10.sort(reverse=True)"
   ]
  },
  {
   "cell_type": "code",
   "execution_count": 76,
   "id": "232cc886-70e5-42fa-82ed-8529b807311a",
   "metadata": {},
   "outputs": [
    {
     "data": {
      "text/plain": [
       "[10, 9, 8, 6, 4, 3, 1]"
      ]
     },
     "execution_count": 76,
     "metadata": {},
     "output_type": "execute_result"
    }
   ],
   "source": [
    "list10"
   ]
  },
  {
   "cell_type": "code",
   "execution_count": 77,
   "id": "4e752f15-75b3-404a-b5e1-0c1d3f8f599a",
   "metadata": {},
   "outputs": [
    {
     "data": {
      "text/plain": [
       "['W', 'E', 'L', 'C', 'O', 'M', 'E']"
      ]
     },
     "execution_count": 77,
     "metadata": {},
     "output_type": "execute_result"
    }
   ],
   "source": [
    "mystring=\"WELCOME\"\n",
    "mylist= [ i for i in mystring]\n",
    "mylist"
   ]
  },
  {
   "cell_type": "code",
   "execution_count": 78,
   "id": "312750f3-c64e-4e48-9bd4-225c383d2c31",
   "metadata": {},
   "outputs": [],
   "source": [
    "mylist1=[i for i in range(40) if i%2==0] "
   ]
  },
  {
   "cell_type": "code",
   "execution_count": 79,
   "id": "6f490fdd-a6e4-4117-8d16-204f6edd3bfb",
   "metadata": {},
   "outputs": [
    {
     "data": {
      "text/plain": [
       "['W', 'E', 'L', 'C', 'O', 'M', 'E']"
      ]
     },
     "execution_count": 79,
     "metadata": {},
     "output_type": "execute_result"
    }
   ],
   "source": [
    "mylist"
   ]
  },
  {
   "cell_type": "code",
   "execution_count": 80,
   "id": "eccd37c9-1311-4949-b047-f53ba387aef2",
   "metadata": {},
   "outputs": [
    {
     "data": {
      "text/plain": [
       "[0, 2, 4, 6, 8, 10, 12, 14, 16, 18, 20, 22, 24, 26, 28, 30, 32, 34, 36, 38]"
      ]
     },
     "execution_count": 80,
     "metadata": {},
     "output_type": "execute_result"
    }
   ],
   "source": [
    "mylist1"
   ]
  },
  {
   "cell_type": "code",
   "execution_count": 81,
   "id": "05c3a9c8-eed5-4246-903c-003283ec5255",
   "metadata": {},
   "outputs": [],
   "source": [
    "mylist3= [num**2 for num in range(10)]"
   ]
  },
  {
   "cell_type": "code",
   "execution_count": 82,
   "id": "dd7e0bfb-63e3-4fb0-8a2c-e38aebebb5ab",
   "metadata": {},
   "outputs": [
    {
     "data": {
      "text/plain": [
       "[0, 1, 4, 9, 16, 25, 36, 49, 64, 81]"
      ]
     },
     "execution_count": 82,
     "metadata": {},
     "output_type": "execute_result"
    }
   ],
   "source": [
    "mylist3"
   ]
  },
  {
   "cell_type": "code",
   "execution_count": 83,
   "id": "ce545ab3-6505-4c87-b4a3-4c520e2a47a5",
   "metadata": {},
   "outputs": [],
   "source": [
    "mylist4= [i for i in range(300) if i%3==0 if i%9==0 if i%12==0]"
   ]
  },
  {
   "cell_type": "code",
   "execution_count": 84,
   "id": "293ee29f-7e08-48b5-a272-1a312d99122f",
   "metadata": {},
   "outputs": [
    {
     "data": {
      "text/plain": [
       "[0, 36, 72, 108, 144, 180, 216, 252, 288]"
      ]
     },
     "execution_count": 84,
     "metadata": {},
     "output_type": "execute_result"
    }
   ],
   "source": [
    "mylist4"
   ]
  },
  {
   "cell_type": "code",
   "execution_count": 87,
   "id": "6bd26ac7-fc3c-47c6-80c3-6247da231929",
   "metadata": {},
   "outputs": [
    {
     "name": "stdout",
     "output_type": "stream",
     "text": [
      "0 is even number\n",
      "1 is odd number\n",
      "2 is even number\n",
      "3 is odd number\n",
      "4 is even number\n",
      "5 is odd number\n",
      "6 is even number\n",
      "7 is odd number\n",
      "8 is even number\n",
      "9 is odd number\n"
     ]
    }
   ],
   "source": [
    "l1= [print(\"{} is even number\".format(i)) if i%2==0 else print(\"{} is odd number\".format(i)) for i  in range(10)]  "
   ]
  },
  {
   "cell_type": "code",
   "execution_count": 89,
   "id": "0ab26186-a056-40e2-92a9-6b85e1d395a5",
   "metadata": {},
   "outputs": [
    {
     "data": {
      "text/plain": [
       "['1', '2', '3', '4', '5', '6', '7', '8', '9']"
      ]
     },
     "execution_count": 89,
     "metadata": {},
     "output_type": "execute_result"
    }
   ],
   "source": [
    "mystr=\"One 1 Two 2 Three 3 Four 4 Five 5 6789\"\n",
    "num=[i for i in mystr if i.isdigit()]\n",
    "num"
   ]
  },
  {
   "cell_type": "code",
   "execution_count": 1,
   "id": "66b95ca6-c08e-4c7e-ad4a-d5895fc395a4",
   "metadata": {},
   "outputs": [
    {
     "data": {
      "text/plain": [
       "{1, 2, 3, 4, 5}"
      ]
     },
     "execution_count": 1,
     "metadata": {},
     "output_type": "execute_result"
    }
   ],
   "source": [
    "myset={1,2,3,4,5}\n",
    "myset"
   ]
  },
  {
   "cell_type": "code",
   "execution_count": 3,
   "id": "5f1cdd0b",
   "metadata": {},
   "outputs": [
    {
     "data": {
      "text/plain": [
       "5"
      ]
     },
     "execution_count": 3,
     "metadata": {},
     "output_type": "execute_result"
    }
   ],
   "source": [
    "len(myset) #length of set"
   ]
  },
  {
   "cell_type": "code",
   "execution_count": 6,
   "id": "1a96d402",
   "metadata": {},
   "outputs": [
    {
     "data": {
      "text/plain": [
       "(1, 1, 2, 2, 3, 3, 4, 4, 5, 5)"
      ]
     },
     "execution_count": 6,
     "metadata": {},
     "output_type": "execute_result"
    }
   ],
   "source": [
    "my_tuple=(1,1,2,2,3,3,4,4,5,5)\n",
    "my_tuple         # duplicates allowed\n"
   ]
  },
  {
   "cell_type": "code",
   "execution_count": 7,
   "id": "a3283c4e",
   "metadata": {},
   "outputs": [],
   "source": [
    "myset= {1,1,2,2,3,4,3,4,5,5}"
   ]
  },
  {
   "cell_type": "code",
   "execution_count": 8,
   "id": "e429b9ab",
   "metadata": {},
   "outputs": [
    {
     "data": {
      "text/plain": [
       "{1, 2, 3, 4, 5}"
      ]
     },
     "execution_count": 8,
     "metadata": {},
     "output_type": "execute_result"
    }
   ],
   "source": [
    "myset"
   ]
  },
  {
   "cell_type": "code",
   "execution_count": 10,
   "id": "df324d06",
   "metadata": {},
   "outputs": [
    {
     "name": "stdout",
     "output_type": "stream",
     "text": [
      "<class 'set'>\n"
     ]
    }
   ],
   "source": [
    "Myst= set()\n",
    "print(type(Myst))"
   ]
  },
  {
   "cell_type": "code",
   "execution_count": 11,
   "id": "71592440",
   "metadata": {},
   "outputs": [],
   "source": [
    "MYstt={}"
   ]
  },
  {
   "cell_type": "code",
   "execution_count": 12,
   "id": "254487df",
   "metadata": {},
   "outputs": [],
   "source": [
    "myset.add('One')   #add item using add() method"
   ]
  },
  {
   "cell_type": "code",
   "execution_count": 14,
   "id": "04667ef6",
   "metadata": {},
   "outputs": [
    {
     "data": {
      "text/plain": [
       "{1, 2, 3, 4, 5, 'Eleven', 'One', 'Ten', 'Twelve'}"
      ]
     },
     "execution_count": 14,
     "metadata": {},
     "output_type": "execute_result"
    }
   ],
   "source": [
    "myset.update(['Ten','Eleven','Twelve'])       #Add Multiple items to a set\n",
    "myset"
   ]
  },
  {
   "cell_type": "code",
   "execution_count": 15,
   "id": "999322e9",
   "metadata": {},
   "outputs": [
    {
     "data": {
      "text/plain": [
       "{1, 2, 3, 4, 5, 'Eleven', 'One', 'Twelve'}"
      ]
     },
     "execution_count": 15,
     "metadata": {},
     "output_type": "execute_result"
    }
   ],
   "source": [
    "myset.remove('Ten') #removes item from a set\n",
    "myset"
   ]
  },
  {
   "cell_type": "code",
   "execution_count": 16,
   "id": "c12e8bcd",
   "metadata": {},
   "outputs": [
    {
     "data": {
      "text/plain": [
       "{1, 2, 3, 4, 5, 'Eleven', 'Twelve'}"
      ]
     },
     "execution_count": 16,
     "metadata": {},
     "output_type": "execute_result"
    }
   ],
   "source": [
    "myset.discard('One')  #same as remove\n",
    "myset"
   ]
  },
  {
   "cell_type": "code",
   "execution_count": 18,
   "id": "417a4c77",
   "metadata": {},
   "outputs": [
    {
     "data": {
      "text/plain": [
       "{1, 2, 3, 4, 5, 6, 7, 8}"
      ]
     },
     "execution_count": 18,
     "metadata": {},
     "output_type": "execute_result"
    }
   ],
   "source": [
    "A={1,2,3,4,5}\n",
    "B={4,5,6,7,8}\n",
    "C={8,9,10}\n",
    "A\n",
    "B\n",
    "A.union(B)   #union of a and b"
   ]
  },
  {
   "cell_type": "code",
   "execution_count": 20,
   "id": "0ec6b0d4",
   "metadata": {},
   "outputs": [
    {
     "data": {
      "text/plain": [
       "{1, 2, 3, 4, 5, 6, 7, 8, 9, 10}"
      ]
     },
     "execution_count": 20,
     "metadata": {},
     "output_type": "execute_result"
    }
   ],
   "source": [
    "A.union(B,C) #Union of A,B,C"
   ]
  },
  {
   "cell_type": "code",
   "execution_count": 21,
   "id": "5e78053d",
   "metadata": {},
   "outputs": [
    {
     "data": {
      "text/plain": [
       "{1, 2, 3, 4, 5, 6, 7, 8, 9, 10}"
      ]
     },
     "execution_count": 21,
     "metadata": {},
     "output_type": "execute_result"
    }
   ],
   "source": [
    "A.update(B,C) #Union of A,B,C in A\n",
    "A"
   ]
  },
  {
   "cell_type": "code",
   "execution_count": 22,
   "id": "46d4b0e5",
   "metadata": {},
   "outputs": [
    {
     "data": {
      "text/plain": [
       "{4, 5, 6, 7, 8}"
      ]
     },
     "execution_count": 22,
     "metadata": {},
     "output_type": "execute_result"
    }
   ],
   "source": [
    "A.intersection(B)"
   ]
  },
  {
   "cell_type": "code",
   "execution_count": 23,
   "id": "2c1e9dc8",
   "metadata": {},
   "outputs": [
    {
     "data": {
      "text/plain": [
       "{4, 5, 6, 7, 8}"
      ]
     },
     "execution_count": 23,
     "metadata": {},
     "output_type": "execute_result"
    }
   ],
   "source": [
    "A.intersection_update(B)\n",
    "A"
   ]
  },
  {
   "cell_type": "code",
   "execution_count": 24,
   "id": "ecfdef71",
   "metadata": {},
   "outputs": [
    {
     "data": {
      "text/plain": [
       "set()"
      ]
     },
     "execution_count": 24,
     "metadata": {},
     "output_type": "execute_result"
    }
   ],
   "source": [
    "A-B   #Elements in A not in B"
   ]
  },
  {
   "cell_type": "code",
   "execution_count": 26,
   "id": "95e1e426",
   "metadata": {},
   "outputs": [
    {
     "data": {
      "text/plain": [
       "{1, 2}"
      ]
     },
     "execution_count": 26,
     "metadata": {},
     "output_type": "execute_result"
    }
   ],
   "source": [
    "A = {1,2,3,4}\n",
    "B = {3,4,5,6}\n",
    "               #Elements in A not in B\n",
    "A-B"
   ]
  },
  {
   "cell_type": "code",
   "execution_count": 27,
   "id": "96f25d9f",
   "metadata": {},
   "outputs": [],
   "source": [
    "A = {1,2,3,4}\n",
    "B = {3,4,5,6}"
   ]
  },
  {
   "cell_type": "code",
   "execution_count": 28,
   "id": "8ad79267",
   "metadata": {},
   "outputs": [
    {
     "data": {
      "text/plain": [
       "{1, 2}"
      ]
     },
     "execution_count": 28,
     "metadata": {},
     "output_type": "execute_result"
    }
   ],
   "source": [
    "A.difference(B)  #Difference of A and B same as A-B"
   ]
  },
  {
   "cell_type": "code",
   "execution_count": 29,
   "id": "553bad1a",
   "metadata": {},
   "outputs": [
    {
     "data": {
      "text/plain": [
       "{1, 2, 6, 7}"
      ]
     },
     "execution_count": 29,
     "metadata": {},
     "output_type": "execute_result"
    }
   ],
   "source": [
    "A = {1,2,3,4,5}\n",
    "B = {3,4,5,6,7}\n",
    "A^B             #Symmetric Difference (Elements in A and B but not common elements)"
   ]
  },
  {
   "cell_type": "code",
   "execution_count": 30,
   "id": "2c21b38a",
   "metadata": {},
   "outputs": [],
   "source": [
    "mydict = dict()  #Empty DICTIONARY"
   ]
  },
  {
   "cell_type": "code",
   "execution_count": 31,
   "id": "c00afb54",
   "metadata": {},
   "outputs": [],
   "source": [
    "mydict = {}"
   ]
  },
  {
   "cell_type": "code",
   "execution_count": 32,
   "id": "da83c466",
   "metadata": {},
   "outputs": [
    {
     "data": {
      "text/plain": [
       "{}"
      ]
     },
     "execution_count": 32,
     "metadata": {},
     "output_type": "execute_result"
    }
   ],
   "source": [
    "mydict"
   ]
  },
  {
   "cell_type": "code",
   "execution_count": 34,
   "id": "27aaff43",
   "metadata": {},
   "outputs": [
    {
     "data": {
      "text/plain": [
       "{1: 'One', 2: 'Two', 3: 'Three'}"
      ]
     },
     "execution_count": 34,
     "metadata": {},
     "output_type": "execute_result"
    }
   ],
   "source": [
    "mydict = {1: 'One', 2:'Two', 3:'Three'} #dictionary with integers\n",
    "mydict"
   ]
  },
  {
   "cell_type": "code",
   "execution_count": 35,
   "id": "9a770255",
   "metadata": {},
   "outputs": [
    {
     "data": {
      "text/plain": [
       "dict_keys([1, 2, 3])"
      ]
     },
     "execution_count": 35,
     "metadata": {},
     "output_type": "execute_result"
    }
   ],
   "source": [
    "mydict.keys()  #Display only keys"
   ]
  },
  {
   "cell_type": "code",
   "execution_count": 37,
   "id": "6ca9bf15",
   "metadata": {},
   "outputs": [
    {
     "data": {
      "text/plain": [
       "dict_values(['One', 'Two', 'Three'])"
      ]
     },
     "execution_count": 37,
     "metadata": {},
     "output_type": "execute_result"
    }
   ],
   "source": [
    "mydict.values() #display only values"
   ]
  },
  {
   "cell_type": "code",
   "execution_count": 38,
   "id": "56e25679",
   "metadata": {},
   "outputs": [
    {
     "data": {
      "text/plain": [
       "dict_items([(1, 'One'), (2, 'Two'), (3, 'Three')])"
      ]
     },
     "execution_count": 38,
     "metadata": {},
     "output_type": "execute_result"
    }
   ],
   "source": [
    "mydict.items() #Display key-value pair"
   ]
  },
  {
   "cell_type": "code",
   "execution_count": 39,
   "id": "476e8349",
   "metadata": {},
   "outputs": [
    {
     "data": {
      "text/plain": [
       "{1: 'One',\n",
       " 2: 'Two',\n",
       " 3: 'Three',\n",
       " 'A': ['Arif', 'Muhammed'],\n",
       " 'B': ['Bat', 'Man']}"
      ]
     },
     "execution_count": 39,
     "metadata": {},
     "output_type": "execute_result"
    }
   ],
   "source": [
    "mydict = {1: 'One', 2:'Two', 3:'Three', 'A':['Arif','Muhammed'],'B':['Bat', 'Man']}\n",
    "mydict"
   ]
  },
  {
   "cell_type": "code",
   "execution_count": 43,
   "id": "77230251",
   "metadata": {},
   "outputs": [
    {
     "data": {
      "text/plain": [
       "dict_items([(1, 'One'), (2, 'Two'), (3, 'Three'), ('A', ['Arif', 'Muhammed']), ('B', ['Bat', 'Man'])])"
      ]
     },
     "execution_count": 43,
     "metadata": {},
     "output_type": "execute_result"
    }
   ],
   "source": [
    "mydict.items()"
   ]
  },
  {
   "cell_type": "code",
   "execution_count": 44,
   "id": "b860f765",
   "metadata": {},
   "outputs": [
    {
     "ename": "TypeError",
     "evalue": "'dict' object is not callable",
     "output_type": "error",
     "traceback": [
      "\u001b[1;31m---------------------------------------------------------------------------\u001b[0m",
      "\u001b[1;31mTypeError\u001b[0m                                 Traceback (most recent call last)",
      "Cell \u001b[1;32mIn[44], line 1\u001b[0m\n\u001b[1;32m----> 1\u001b[0m \u001b[43mmydict\u001b[49m\u001b[43m(\u001b[49m\u001b[43mA\u001b[49m\u001b[43m)\u001b[49m\n",
      "\u001b[1;31mTypeError\u001b[0m: 'dict' object is not callable"
     ]
    }
   ],
   "source": [
    "mydict(A)"
   ]
  },
  {
   "cell_type": "code",
   "execution_count": 45,
   "id": "1bc2ffb7",
   "metadata": {},
   "outputs": [
    {
     "data": {
      "text/plain": [
       "['Arif', 'Muhammed']"
      ]
     },
     "execution_count": 45,
     "metadata": {},
     "output_type": "execute_result"
    }
   ],
   "source": [
    "mydict['A']"
   ]
  },
  {
   "cell_type": "code",
   "execution_count": 47,
   "id": "d412835b",
   "metadata": {},
   "outputs": [
    {
     "data": {
      "text/plain": [
       "'Arif'"
      ]
     },
     "execution_count": 47,
     "metadata": {},
     "output_type": "execute_result"
    }
   ],
   "source": [
    "mydict['A'][0]"
   ]
  },
  {
   "cell_type": "code",
   "execution_count": 49,
   "id": "db1ba568",
   "metadata": {},
   "outputs": [],
   "source": [
    "mydict1 = {1: 'One', 2:'Two', 'A':{'Name':'Arif','Age':23},'B':('Bat', 'Man')}"
   ]
  },
  {
   "cell_type": "code",
   "execution_count": 50,
   "id": "4a9cd5db",
   "metadata": {},
   "outputs": [
    {
     "data": {
      "text/plain": [
       "'Arif'"
      ]
     },
     "execution_count": 50,
     "metadata": {},
     "output_type": "execute_result"
    }
   ],
   "source": [
    "mydict1['A']['Name']"
   ]
  },
  {
   "cell_type": "code",
   "execution_count": 51,
   "id": "b7f4fae5",
   "metadata": {},
   "outputs": [
    {
     "data": {
      "text/plain": [
       "{'a': 10, 'c': 10, 'b': 10, 'd': 10}"
      ]
     },
     "execution_count": 51,
     "metadata": {},
     "output_type": "execute_result"
    }
   ],
   "source": [
    "keys = {'a','b','c','d'}\n",
    "value = 10\n",
    "mydict3 = dict.fromkeys(keys,value)  #Create dict from sequence of  keys\n",
    "mydict3"
   ]
  },
  {
   "cell_type": "code",
   "execution_count": 52,
   "id": "83bdc08e",
   "metadata": {},
   "outputs": [
    {
     "data": {
      "text/plain": [
       "'One'"
      ]
     },
     "execution_count": 52,
     "metadata": {},
     "output_type": "execute_result"
    }
   ],
   "source": [
    "mydict[1]  #Access item using key"
   ]
  },
  {
   "cell_type": "code",
   "execution_count": 53,
   "id": "a6838671",
   "metadata": {},
   "outputs": [
    {
     "data": {
      "text/plain": [
       "'One'"
      ]
     },
     "execution_count": 53,
     "metadata": {},
     "output_type": "execute_result"
    }
   ],
   "source": [
    "mydict.get(1)  #access item using get() method"
   ]
  },
  {
   "cell_type": "code",
   "execution_count": 54,
   "id": "7c143302",
   "metadata": {},
   "outputs": [
    {
     "data": {
      "text/plain": [
       "{'Name': 'Arif', 'ID': 12345, 'DOB': 1991, 'Address': 'Helsinki'}"
      ]
     },
     "execution_count": 54,
     "metadata": {},
     "output_type": "execute_result"
    }
   ],
   "source": [
    "mydict2 = {'Name': 'Arif', 'ID': 12345, 'DOB' : 1991, 'Address' : 'Helsinki'}\n",
    "mydict2"
   ]
  },
  {
   "cell_type": "code",
   "execution_count": 57,
   "id": "7a09fea4",
   "metadata": {},
   "outputs": [],
   "source": [
    "mydict2['Pin'] = 654  #Add items in dictionary"
   ]
  },
  {
   "cell_type": "code",
   "execution_count": 56,
   "id": "18913a25",
   "metadata": {},
   "outputs": [
    {
     "data": {
      "text/plain": [
       "{'Name': 'Arif', 'ID': 12345, 'DOB': 1991, 'Address': 'Helsinki', 'Pin': 654}"
      ]
     },
     "execution_count": 56,
     "metadata": {},
     "output_type": "execute_result"
    }
   ],
   "source": [
    "mydict2"
   ]
  },
  {
   "cell_type": "code",
   "execution_count": 58,
   "id": "40e95eeb",
   "metadata": {},
   "outputs": [],
   "source": [
    "mydict2['DOB'] = 1992 #Change dict items"
   ]
  },
  {
   "cell_type": "code",
   "execution_count": 59,
   "id": "ba9eaed5",
   "metadata": {},
   "outputs": [
    {
     "data": {
      "text/plain": [
       "{'Name': 'Arif', 'ID': 12345, 'DOB': 1992, 'Address': 'Helsinki', 'Pin': 654}"
      ]
     },
     "execution_count": 59,
     "metadata": {},
     "output_type": "execute_result"
    }
   ],
   "source": [
    "mydict2"
   ]
  },
  {
   "cell_type": "code",
   "execution_count": 61,
   "id": "e7b36919",
   "metadata": {},
   "outputs": [],
   "source": [
    " \n",
    "mydict2.update({'Address': 'Delhi'}) #change dict items"
   ]
  },
  {
   "cell_type": "code",
   "execution_count": 63,
   "id": "b25e2e80",
   "metadata": {},
   "outputs": [
    {
     "data": {
      "text/plain": [
       "{'Name': 'Arif', 'ID': 12345, 'DOB': 1992, 'Address': 'Delhi', 'Pin': 654}"
      ]
     },
     "execution_count": 63,
     "metadata": {},
     "output_type": "execute_result"
    }
   ],
   "source": [
    "mydict2"
   ]
  },
  {
   "cell_type": "code",
   "execution_count": 65,
   "id": "f9e47ad2",
   "metadata": {},
   "outputs": [
    {
     "ename": "KeyError",
     "evalue": "'Pin'",
     "output_type": "error",
     "traceback": [
      "\u001b[1;31m---------------------------------------------------------------------------\u001b[0m",
      "\u001b[1;31mKeyError\u001b[0m                                  Traceback (most recent call last)",
      "Cell \u001b[1;32mIn[65], line 1\u001b[0m\n\u001b[1;32m----> 1\u001b[0m \u001b[43mmydict2\u001b[49m\u001b[38;5;241;43m.\u001b[39;49m\u001b[43mpop\u001b[49m\u001b[43m(\u001b[49m\u001b[38;5;124;43m'\u001b[39;49m\u001b[38;5;124;43mPin\u001b[39;49m\u001b[38;5;124;43m'\u001b[39;49m\u001b[43m)\u001b[49m \u001b[38;5;66;03m#remove item from dict\u001b[39;00m\n",
      "\u001b[1;31mKeyError\u001b[0m: 'Pin'"
     ]
    }
   ],
   "source": [
    "mydict2.pop('Pin') #remove item from dict"
   ]
  },
  {
   "cell_type": "code",
   "execution_count": 66,
   "id": "0d5bc684",
   "metadata": {},
   "outputs": [
    {
     "data": {
      "text/plain": [
       "('Address', 'Delhi')"
      ]
     },
     "execution_count": 66,
     "metadata": {},
     "output_type": "execute_result"
    }
   ],
   "source": [
    "mydict2.popitem()"
   ]
  },
  {
   "cell_type": "code",
   "execution_count": 67,
   "id": "62897297",
   "metadata": {},
   "outputs": [],
   "source": [
    "del [mydict2['ID']]"
   ]
  },
  {
   "cell_type": "code",
   "execution_count": 68,
   "id": "6e0e36b4",
   "metadata": {},
   "outputs": [
    {
     "data": {
      "text/plain": [
       "{}"
      ]
     },
     "execution_count": 68,
     "metadata": {},
     "output_type": "execute_result"
    }
   ],
   "source": [
    "mydict2.clear()\n",
    "mydict2"
   ]
  },
  {
   "cell_type": "code",
   "execution_count": 69,
   "id": "4b1e488d",
   "metadata": {},
   "outputs": [
    {
     "data": {
      "text/plain": [
       "{1: 'One', 2: 'Two', 'A': {'Name': 'Arif', 'Age': 23}, 'B': ('Bat', 'Man')}"
      ]
     },
     "execution_count": 69,
     "metadata": {},
     "output_type": "execute_result"
    }
   ],
   "source": [
    "mydict1"
   ]
  },
  {
   "cell_type": "code",
   "execution_count": 73,
   "id": "0ba5a00f",
   "metadata": {},
   "outputs": [
    {
     "name": "stdout",
     "output_type": "stream",
     "text": [
      "1\n",
      "2\n",
      "A\n",
      "B\n"
     ]
    }
   ],
   "source": [
    "for i in mydict1:\n",
    "    print(i)  #Display key"
   ]
  },
  {
   "cell_type": "code",
   "execution_count": 74,
   "id": "158bceff",
   "metadata": {},
   "outputs": [
    {
     "name": "stdout",
     "output_type": "stream",
     "text": [
      "One\n",
      "Two\n",
      "{'Name': 'Arif', 'Age': 23}\n",
      "('Bat', 'Man')\n"
     ]
    }
   ],
   "source": [
    "for i in mydict1:\n",
    "    print(mydict1[i])  #display value"
   ]
  },
  {
   "cell_type": "code",
   "execution_count": 76,
   "id": "f99eb6d1",
   "metadata": {},
   "outputs": [
    {
     "name": "stdout",
     "output_type": "stream",
     "text": [
      "1 One\n",
      "2 Two\n",
      "A {'Name': 'Arif', 'Age': 23}\n",
      "B ('Bat', 'Man')\n"
     ]
    }
   ],
   "source": [
    "for i,j in mydict1.items():     #Display key, value in dict i=key, j= value\n",
    "    print(i,j)"
   ]
  },
  {
   "cell_type": "code",
   "execution_count": 77,
   "id": "e93e951a",
   "metadata": {},
   "outputs": [
    {
     "data": {
      "text/plain": [
       "True"
      ]
     },
     "execution_count": 77,
     "metadata": {},
     "output_type": "execute_result"
    }
   ],
   "source": [
    "1 in mydict1 #Test if dict is in key or not"
   ]
  },
  {
   "cell_type": "code",
   "execution_count": 79,
   "id": "a7ef5b88",
   "metadata": {},
   "outputs": [
    {
     "data": {
      "text/plain": [
       "False"
      ]
     },
     "execution_count": 79,
     "metadata": {},
     "output_type": "execute_result"
    }
   ],
   "source": [
    "'One' in mydict2 #Test not possible for values"
   ]
  },
  {
   "cell_type": "code",
   "execution_count": 80,
   "id": "e8e56e21",
   "metadata": {},
   "outputs": [
    {
     "data": {
      "text/plain": [
       "{0: 0, 1: 2, 2: 4, 3: 6, 4: 8, 5: 10, 6: 12, 7: 14, 8: 16, 9: 18}"
      ]
     },
     "execution_count": 80,
     "metadata": {},
     "output_type": "execute_result"
    }
   ],
   "source": [
    "double = {i:i*2 for i in range(10)}  #Dictionary Comprehension for double\n",
    "double"
   ]
  },
  {
   "cell_type": "code",
   "execution_count": 82,
   "id": "1ab5a79c",
   "metadata": {},
   "outputs": [
    {
     "data": {
      "text/plain": [
       "{0: 0, 1: 1, 2: 4, 3: 9, 4: 16, 5: 25, 6: 36, 7: 49, 8: 64, 9: 81}"
      ]
     },
     "execution_count": 82,
     "metadata": {},
     "output_type": "execute_result"
    }
   ],
   "source": [
    "square = {i:i**2 for i in range(10)} #square using dict comprehension\n",
    "square"
   ]
  },
  {
   "cell_type": "code",
   "execution_count": 83,
   "id": "8193d904",
   "metadata": {},
   "outputs": [],
   "source": [
    "key = ['one','two','three','four','five']\n",
    "value = [1,2,3,4,5]\n",
    "\n",
    "mydict = {k:v for (k,v) in zip(key,value)}"
   ]
  },
  {
   "cell_type": "code",
   "execution_count": 84,
   "id": "65a53aae",
   "metadata": {},
   "outputs": [
    {
     "data": {
      "text/plain": [
       "{'one': 1, 'two': 2, 'three': 3, 'four': 4, 'five': 5}"
      ]
     },
     "execution_count": 84,
     "metadata": {},
     "output_type": "execute_result"
    }
   ],
   "source": [
    "mydict"
   ]
  },
  {
   "cell_type": "code",
   "execution_count": 85,
   "id": "dac1f46a",
   "metadata": {},
   "outputs": [
    {
     "data": {
      "text/plain": [
       "{'a': 1.0, 'b': 2.0, 'c': 3.0, 'd': 4.0, 'e': 5.0}"
      ]
     },
     "execution_count": 85,
     "metadata": {},
     "output_type": "execute_result"
    }
   ],
   "source": [
    "mydict1 = {'a': 10, 'b':20, 'c':30, 'd':40, 'e':50}\n",
    "mydict1 = {k:v/10 for (k,v) in mydict1.items()}\n",
    "mydict1"
   ]
  },
  {
   "cell_type": "code",
   "execution_count": null,
   "id": "9baa4d09",
   "metadata": {},
   "outputs": [],
   "source": []
  },
  {
   "cell_type": "markdown",
   "id": "ca202026",
   "metadata": {},
   "source": [
    "1. Python pgm that take a list of tuples as inputs where each tuple contains a name(string) and age(int) and returns a list of names sorted by age in descending order.\n",
    "\n",
    "2. Python pgm that makes 2 list of integers as input and returns a new list containing only the common elements btw the 2 list using set operations and list comprehension.\n",
    "\n",
    "3. Python pgm  that takes a dictionary containing  student names as keys and their exam scores as values and prints a formatted string listing the top 3 students with their scores.\n",
    "\n",
    "4. Py pgm that takes a list of tuples containing student names and exam scores, calculate avg score of each student and return a new list of tuples containing  student name and their avg score.\n",
    "\n",
    "5. Py pgm that takes a list of string as input and sort the string in ascending order based on their length and returns a single string containing all the sorted strings seperated by commas.\n",
    "\n",
    "6. Py pgm that takes string(large) as input and returns a dictionary containing  frequency of each word in input string."
   ]
  },
  {
   "cell_type": "markdown",
   "id": "21b80fd7",
   "metadata": {},
   "source": [
    "1. Python pgm that take a list of tuples as inputs where each tuple contains a name(string) and age(int) and returns a list of names sorted by age in descending order."
   ]
  },
  {
   "cell_type": "markdown",
   "id": "3d9a964a",
   "metadata": {},
   "source": []
  },
  {
   "cell_type": "markdown",
   "id": "e585318a",
   "metadata": {},
   "source": [
    " Python pgm  that takes a dictionary containing  student names as keys and their exam scores as values and prints a formatted string listing the top 3 students with their scores.\n",
    " "
   ]
  },
  {
   "cell_type": "code",
   "execution_count": 1,
   "id": "842f7be5",
   "metadata": {},
   "outputs": [
    {
     "name": "stdout",
     "output_type": "stream",
     "text": [
      "([('Fang', 50), ('Fin', 70), ('Foom', 60), ('Stephen', 80), ('Strange', 90)],)\n"
     ]
    }
   ],
   "source": [
    "students = {'Stephen': 80, 'Strange': 90, 'Fin':70, 'Fang': 50,'Foom': 60}\n",
    "\n",
    "sort_studs = sorted(students.items()),# key = lambda x:x[1],reverse=True)\n",
    "\n",
    "print(sort_studs)"
   ]
  },
  {
   "cell_type": "code",
   "execution_count": 2,
   "id": "71041c40",
   "metadata": {},
   "outputs": [],
   "source": [
    "def addition(x,y):\n",
    "    \n",
    "    return x+y"
   ]
  },
  {
   "cell_type": "code",
   "execution_count": 3,
   "id": "30e5eeb2",
   "metadata": {},
   "outputs": [
    {
     "data": {
      "text/plain": [
       "11"
      ]
     },
     "execution_count": 3,
     "metadata": {},
     "output_type": "execute_result"
    }
   ],
   "source": [
    "addition(5,6)"
   ]
  },
  {
   "cell_type": "code",
   "execution_count": 4,
   "id": "dfa9869c",
   "metadata": {},
   "outputs": [],
   "source": [
    "def oddoreven(z):\n",
    "    if z%2 == 0:\n",
    "        y = \"this num is even\"\n",
    "    else:\n",
    "        y = \"this num is odd\"\n",
    "    return y\n",
    "    "
   ]
  },
  {
   "cell_type": "code",
   "execution_count": 5,
   "id": "75b198d5",
   "metadata": {},
   "outputs": [
    {
     "data": {
      "text/plain": [
       "'this num is odd'"
      ]
     },
     "execution_count": 5,
     "metadata": {},
     "output_type": "execute_result"
    }
   ],
   "source": [
    "oddoreven(5)"
   ]
  },
  {
   "cell_type": "code",
   "execution_count": 6,
   "id": "a7be5c6a",
   "metadata": {},
   "outputs": [],
   "source": [
    "\n",
    "\n",
    "def append_func(x,lis):\n",
    "    lis.append(x)\n",
    "    return lis"
   ]
  },
  {
   "cell_type": "code",
   "execution_count": 7,
   "id": "ef748b77",
   "metadata": {},
   "outputs": [
    {
     "data": {
      "text/plain": [
       "[5]"
      ]
     },
     "execution_count": 7,
     "metadata": {},
     "output_type": "execute_result"
    }
   ],
   "source": [
    "new = []\n",
    "append_func(5,new)"
   ]
  },
  {
   "cell_type": "code",
   "execution_count": 8,
   "id": "59de2c40",
   "metadata": {},
   "outputs": [
    {
     "data": {
      "text/plain": [
       "1"
      ]
     },
     "execution_count": 8,
     "metadata": {},
     "output_type": "execute_result"
    }
   ],
   "source": [
    "def factorial(num):\n",
    "    if num <= 1:\n",
    "        return 1\n",
    "    else:\n",
    "        return num*factorial(num-1)\n",
    "factorial(0)   "
   ]
  },
  {
   "cell_type": "code",
   "execution_count": 9,
   "id": "43b266b8",
   "metadata": {},
   "outputs": [
    {
     "name": "stdout",
     "output_type": "stream",
     "text": [
      "6\n",
      "10\n",
      "15\n",
      "21\n"
     ]
    }
   ],
   "source": [
    "def add1(*args):\n",
    "    return sum(args)\n",
    "\n",
    "print(add1(1,2,3))\n",
    "print(add1(1,2,3,4))\n",
    "print(add1(1,2,3,4,5))\n",
    "print(add1(1,2,3,4,5,6))"
   ]
  },
  {
   "cell_type": "code",
   "execution_count": 10,
   "id": "2497dc3a",
   "metadata": {},
   "outputs": [
    {
     "name": "stdout",
     "output_type": "stream",
     "text": [
      "[2, 4]\n"
     ]
    }
   ],
   "source": [
    "lst_1 = [1,2,3,4,5]\n",
    "lst_2 = list( filter(lambda n:n%2==0,lst_1))\n",
    "print(lst_2)"
   ]
  },
  {
   "cell_type": "code",
   "execution_count": 11,
   "id": "f1e1dc5e",
   "metadata": {},
   "outputs": [],
   "source": [
    "input = \"AAABBCCDA\"\n",
    "output = \"A4B2C2D1\""
   ]
  },
  {
   "cell_type": "code",
   "execution_count": 12,
   "id": "fa321547",
   "metadata": {},
   "outputs": [
    {
     "data": {
      "text/plain": [
       "'A4B2C2D1'"
      ]
     },
     "execution_count": 12,
     "metadata": {},
     "output_type": "execute_result"
    }
   ],
   "source": [
    "def number(count):\n",
    "    temp = {}\n",
    "    count_1 = []\n",
    "    \n",
    "    for item in count:\n",
    "        if item in temp:\n",
    "            temp[item]+= 1\n",
    "        else:\n",
    "            temp[item] = 1\n",
    "    for i,j in temp.items():\n",
    "        count_1.append(i)\n",
    "        count_1.append(str(j))\n",
    "    str_1 = \"\".join(count_1)    \n",
    "\n",
    "    return str_1\n",
    "            \n",
    "    \n",
    "    \n",
    "str_in = \"AAABBCCDA\"\n",
    "number(str_in)"
   ]
  },
  {
   "cell_type": "markdown",
   "id": "06a6cc9f",
   "metadata": {},
   "source": [
    "filter(function,iterable)     #to check the condition [true or false]\n",
    "\n",
    "map(function,iterable)   #to execute the condition [to perform]\n",
    "\n",
    "reduce(function, iterable)  #to reduce"
   ]
  },
  {
   "cell_type": "code",
   "execution_count": 13,
   "id": "07f037b6",
   "metadata": {},
   "outputs": [
    {
     "data": {
      "text/plain": [
       "[1, 3, 5, 7, 9]"
      ]
     },
     "execution_count": 13,
     "metadata": {},
     "output_type": "execute_result"
    }
   ],
   "source": [
    "lst_new = [1,2,3,4,5,6,7,8,9]\n",
    "odd_num = list(filter(lambda n: n%2 == 1, lst_new))\n",
    "odd_num"
   ]
  },
  {
   "cell_type": "code",
   "execution_count": 14,
   "id": "a1406ab0",
   "metadata": {},
   "outputs": [
    {
     "data": {
      "text/plain": [
       "[2, 4, 6, 8, 16, 18]"
      ]
     },
     "execution_count": 14,
     "metadata": {},
     "output_type": "execute_result"
    }
   ],
   "source": [
    "rand = [1,2,3,4,8,9]\n",
    "doubles = list(map(lambda x: x*2, rand))\n",
    "doubles\n"
   ]
  },
  {
   "cell_type": "code",
   "execution_count": 15,
   "id": "24dfaf9e",
   "metadata": {},
   "outputs": [
    {
     "data": {
      "text/plain": [
       "54"
      ]
     },
     "execution_count": 15,
     "metadata": {},
     "output_type": "execute_result"
    }
   ],
   "source": [
    "from functools import reduce\n",
    "\n",
    "red = reduce(lambda a,b: a+b, doubles)     #reduce function\n",
    "red"
   ]
  },
  {
   "cell_type": "code",
   "execution_count": 16,
   "id": "a0cb374f",
   "metadata": {},
   "outputs": [
    {
     "data": {
      "text/plain": [
       "26"
      ]
     },
     "execution_count": 16,
     "metadata": {},
     "output_type": "execute_result"
    }
   ],
   "source": [
    "sum_all = reduce(lambda a,b : a+b, list(map(lambda n:n*2, list(filter(lambda n:n%2 == 1, rand)))))         #ALL functions together [reduce,map,filter]\n",
    "sum_all"
   ]
  },
  {
   "cell_type": "code",
   "execution_count": 17,
   "id": "7a979562",
   "metadata": {},
   "outputs": [
    {
     "ename": "SyntaxError",
     "evalue": "incomplete input (2468339244.py, line 12)",
     "output_type": "error",
     "traceback": [
      "\u001b[1;36m  Cell \u001b[1;32mIn[17], line 12\u001b[1;36m\u001b[0m\n\u001b[1;33m    def myfunc1(self):\u001b[0m\n\u001b[1;37m                          ^\u001b[0m\n\u001b[1;31mSyntaxError\u001b[0m\u001b[1;31m:\u001b[0m incomplete input\n"
     ]
    }
   ],
   "source": [
    "#CLASS Syntax:\n",
    "\n",
    "class Myclass:                         #class name 1st letter be CAPS\n",
    "    \"Docstring\"\n",
    "    def __init__(self, var1,var2):   #self mustbe the 1st \n",
    "        self.var1 = var1\n",
    "        self.var2 = var2\n",
    "\n",
    "\n",
    "\n",
    "\n",
    "    def myfunc1(self):    "
   ]
  },
  {
   "cell_type": "code",
   "execution_count": null,
   "id": "a0f3d9db",
   "metadata": {},
   "outputs": [
    {
     "name": "stdout",
     "output_type": "stream",
     "text": [
      "Name:-  Arif\n",
      "Employee ID:-  65432\n",
      "Name:-  Muhammed\n",
      "Employee ID:-  98765\n",
      "Thanks for joining ABC Company Arif\n",
      "Thanks for joining ABC Company Muhammed\n"
     ]
    }
   ],
   "source": [
    "class Employee:\n",
    "    \n",
    "    def __init__(self,name,empid):                #__init__ function is used to assign values\n",
    "        self.name = name\n",
    "        self.empid = empid\n",
    "    \n",
    "    def greet(self):                              #Class Method\n",
    "        print(\"Thanks for joining ABC Company {}\".format(self.name))\n",
    "\n",
    "emp1 = Employee(\"Arif\", 65432)                    #An employee object\n",
    "emp2 = Employee(\"Muhammed\", 98765)\n",
    "\n",
    "print(\"Name:- \", emp1.name)\n",
    "print(\"Employee ID:- \",emp1.empid)\n",
    "\n",
    "print(\"Name:- \", emp2.name)\n",
    "print(\"Employee ID:- \",emp2.empid)\n",
    "\n",
    "emp1.greet()     \n",
    "emp2.greet()"
   ]
  },
  {
   "cell_type": "markdown",
   "id": "439a5696",
   "metadata": {},
   "source": [
    "1. Write a py class named Car with class atribute wheels set to 4 given a class method info that prints the number of wheels.\n",
    "\n",
    "2. Write a py class calculator with methods add, subtract, multiply and divide that perform the respective operations."
   ]
  },
  {
   "cell_type": "code",
   "execution_count": null,
   "id": "d6c14dac",
   "metadata": {},
   "outputs": [
    {
     "data": {
      "text/plain": [
       "'Basit'"
      ]
     },
     "execution_count": 20,
     "metadata": {},
     "output_type": "execute_result"
    }
   ],
   "source": [
    "emp1.name = 'Basit'        #modify object properties\n",
    "emp1.name"
   ]
  },
  {
   "cell_type": "code",
   "execution_count": null,
   "id": "ea7391d5",
   "metadata": {},
   "outputs": [
    {
     "ename": "AttributeError",
     "evalue": "'Employee' object has no attribute 'empid'",
     "output_type": "error",
     "traceback": [
      "\u001b[1;31m---------------------------------------------------------------------------\u001b[0m",
      "\u001b[1;31mAttributeError\u001b[0m                            Traceback (most recent call last)",
      "Cell \u001b[1;32mIn[21], line 2\u001b[0m\n\u001b[0;32m      1\u001b[0m \u001b[38;5;28;01mdel\u001b[39;00m emp1\u001b[38;5;241m.\u001b[39mempid             \u001b[38;5;66;03m#delete object properties\u001b[39;00m\n\u001b[1;32m----> 2\u001b[0m \u001b[43memp1\u001b[49m\u001b[38;5;241;43m.\u001b[39;49m\u001b[43mempid\u001b[49m\n",
      "\u001b[1;31mAttributeError\u001b[0m: 'Employee' object has no attribute 'empid'"
     ]
    }
   ],
   "source": [
    "del emp1.empid             #delete object properties\n",
    "emp1.empid"
   ]
  },
  {
   "cell_type": "code",
   "execution_count": null,
   "id": "a1f64256",
   "metadata": {},
   "outputs": [],
   "source": [
    "del emp1"
   ]
  },
  {
   "cell_type": "markdown",
   "id": "5f9207e6",
   "metadata": {},
   "source": [
    "1. Write a py class named Car with class atribute wheels set to 4 given a class method info that prints the number of wheels."
   ]
  },
  {
   "cell_type": "code",
   "execution_count": null,
   "id": "ae45cd52",
   "metadata": {},
   "outputs": [
    {
     "name": "stdout",
     "output_type": "stream",
     "text": [
      "BMW:-  4\n",
      "The number of Wheels are: 4\n"
     ]
    }
   ],
   "source": [
    "class Car:\n",
    "    def __init__(self,wheels):\n",
    "        self.wheels = wheels\n",
    "\n",
    "    def info(self):\n",
    "        print(f\"The number of Wheels are: {self.wheels}\")   \n",
    "        \n",
    "bmw = Car(4)         \n",
    "print(\"BMW:- \",bmw.wheels)\n",
    "\n",
    "bmw.info()"
   ]
  },
  {
   "cell_type": "markdown",
   "id": "aabe29dc",
   "metadata": {},
   "source": [
    "2. Write a py class calculator with methods add, subtract, multiply and divide that perform the respective operations."
   ]
  },
  {
   "cell_type": "code",
   "execution_count": 1,
   "id": "7c6fc643",
   "metadata": {},
   "outputs": [
    {
     "name": "stdout",
     "output_type": "stream",
     "text": [
      "100\n",
      "60\n"
     ]
    }
   ],
   "source": [
    "class Calculator:\n",
    "    \n",
    "    numb1 = 0\n",
    "    numb2 = 0\n",
    "\n",
    "    res_a = 0\n",
    "    res_s = 0\n",
    "    res_m = 1\n",
    "    res_d = 0\n",
    "\n",
    "    def __init__(self,num1,num2):\n",
    "        self.numb1 = num1\n",
    "        self.numb2 = num2\n",
    "\n",
    "    def add(self):\n",
    "        self.res_a = self.numb1 + self.numb2\n",
    "        return self.res_a\n",
    "    \n",
    "    def sub(self):\n",
    "        if self.numb1 > self.numb2:\n",
    "            self.res_s = self.numb1 - self.numb2\n",
    "            return self.res_s\n",
    "         \n",
    "        elif self.numb1 < self.numb2:\n",
    "            self.res_s = self.numb2 - self.numb1\n",
    "            return self.res_s\n",
    "          \n",
    "        else:\n",
    "            return self.res_s\n",
    "\n",
    "    def mul(self):\n",
    "        self.res_m = self.numb1 * self.numb2    \n",
    "        return self.res_m\n",
    "\n",
    "    def div(self):\n",
    "        self.res_d = self.numb1/self.numb2\n",
    "        return self.res_d\n",
    "\n",
    "    \n",
    "\n",
    "\n",
    "calc1 = Calculator(20,80)\n",
    "print(calc1.add())\n",
    "\n",
    "calc2 = Calculator(100,40)\n",
    "print(calc2.sub())\n"
   ]
  },
  {
   "cell_type": "code",
   "execution_count": 19,
   "id": "6559caad",
   "metadata": {},
   "outputs": [
    {
     "ename": "TypeError",
     "evalue": "'str' object is not callable",
     "output_type": "error",
     "traceback": [
      "\u001b[1;31m---------------------------------------------------------------------------\u001b[0m",
      "\u001b[1;31mTypeError\u001b[0m                                 Traceback (most recent call last)",
      "Cell \u001b[1;32mIn[19], line 1\u001b[0m\n\u001b[1;32m----> 1\u001b[0m \u001b[38;5;28;01mfor\u001b[39;00m n \u001b[38;5;129;01min\u001b[39;00m \u001b[38;5;28mrange\u001b[39m(\u001b[38;5;28mint\u001b[39m(\u001b[38;5;28;43minput\u001b[39;49m\u001b[43m(\u001b[49m\u001b[43m)\u001b[49m)):\n\u001b[0;32m      2\u001b[0m     name \u001b[38;5;241m=\u001b[39m \u001b[38;5;28minput\u001b[39m()\n\u001b[0;32m      3\u001b[0m     score \u001b[38;5;241m=\u001b[39m \u001b[38;5;28mfloat\u001b[39m(\u001b[38;5;28minput\u001b[39m())\n",
      "\u001b[1;31mTypeError\u001b[0m: 'str' object is not callable"
     ]
    }
   ],
   "source": [
    "for n in range(int(input())):\n",
    "    name = input()\n",
    "    score = float(input())\n",
    "    \n",
    "res = {name[i]:score[i] for i in range(len(name))}\n",
    "records = list(res.items())\n",
    "records()"
   ]
  },
  {
   "cell_type": "code",
   "execution_count": null,
   "id": "cefda1ee",
   "metadata": {},
   "outputs": [],
   "source": []
  },
  {
   "cell_type": "markdown",
   "id": "560a1986",
   "metadata": {},
   "source": [
    "INHERITANCE\n",
    "\n",
    "->provide code reusability in the program because we can use existing class to create a new class\n",
    "\n",
    "-> Child class inherits data definitions and methods from parent class, Child can also add few more defn. or redefine a base class method.\n",
    "\n"
   ]
  },
  {
   "cell_type": "code",
   "execution_count": 3,
   "id": "f0b05157",
   "metadata": {},
   "outputs": [
    {
     "name": "stdout",
     "output_type": "stream",
     "text": [
      "Student Details\n",
      "Name :- Arif\n",
      "Age :- 23\n",
      "Gender :- Male\n",
      "Student ID :- 112\n",
      "Fees :- 2000\n",
      "\n",
      "Teacher Details\n",
      "Name :- Basit\n",
      "Age :- 28\n",
      "Gender :- Male\n",
      "Employee ID :- 120\n",
      "Salary :- 30000\n",
      "\n"
     ]
    }
   ],
   "source": [
    "class Person:                                        #Parent Class\n",
    "    def __init__(self,name,age,gender):\n",
    "        self.name = name\n",
    "        self.age = age\n",
    "        self.gender = gender\n",
    "\n",
    "    def PersonInfo(self):\n",
    "        print(\"Name :- {}\".format(self.name))\n",
    "        print(\"Age :- {}\".format(self.age))\n",
    "        print(\"Gender :- {}\".format(self.gender))\n",
    "\n",
    "class Student(Person):                             #Child Class\n",
    "    def __init__(self, name, age, gender,studentid,fees):\n",
    "        Person.__init__(self,name, age, gender)\n",
    "        self.studentid = studentid\n",
    "        self.fees = fees\n",
    "\n",
    "    def StudentInfo(self):\n",
    "        print(\"Student ID :- {}\".format(self.studentid))\n",
    "        print(\"Fees :- {}\".format(self.fees))    \n",
    "\n",
    "class Teacher(Person):                             #Child Class  \n",
    "    def __init__(self, name, age, gender,empid,salary):\n",
    "        Person.__init__(self,name, age, gender)\n",
    "        self.empid = empid\n",
    "        self.salary = salary\n",
    "\n",
    "    def TeacherInfo(self):\n",
    "        print(\"Employee ID :- {}\".format(self.empid))\n",
    "        print(\"Salary :- {}\".format(self.salary))\n",
    "\n",
    "stud1 = Student(\"Arif\",23,\"Male\",112,2000)\n",
    "print(\"Student Details\")\n",
    "\n",
    "stud1.PersonInfo()                                 #PersonInfo() method in parent class is accessed\n",
    "stud1.StudentInfo()\n",
    "print()\n",
    "\n",
    "\n",
    "teach1 = Teacher(\"Basit\",28,\"Male\",120,30000)\n",
    "print(\"Teacher Details\")\n",
    "\n",
    "teach1.PersonInfo()\n",
    "teach1.TeacherInfo()\n",
    "print()"
   ]
  },
  {
   "cell_type": "code",
   "execution_count": 7,
   "id": "d11f4880",
   "metadata": {},
   "outputs": [
    {
     "data": {
      "text/plain": [
       "False"
      ]
     },
     "execution_count": 7,
     "metadata": {},
     "output_type": "execute_result"
    }
   ],
   "source": [
    "class FindDuplicates:\n",
    "    def __init__(self,lis):\n",
    "        self.lis = lis\n",
    "\n",
    "    def check_duplicates(self):\n",
    "        new_set = set()\n",
    "        for num in self.lis:\n",
    "            if num in new_set:\n",
    "                return True\n",
    "            new_set.add(num)\n",
    "        return False        \n",
    "\n",
    "\n",
    "\n",
    "li = [1,2,3]\n",
    "obj_1 = FindDuplicates(li)\n",
    "obj_1.check_duplicates()"
   ]
  },
  {
   "cell_type": "markdown",
   "id": "04537df7",
   "metadata": {},
   "source": [
    "super() built in function allows to acces methods of Base/Parent Class."
   ]
  },
  {
   "cell_type": "code",
   "execution_count": 8,
   "id": "fee07378",
   "metadata": {},
   "outputs": [
    {
     "name": "stdout",
     "output_type": "stream",
     "text": [
      "Student Details\n",
      "Name :- Arif\n",
      "Age :- 23\n",
      "Gender :- Male\n",
      "Name :- Arif\n",
      "Age :- 23\n",
      "Gender :- Male\n",
      "Student ID :- 112\n",
      "Fees :- 2000\n",
      "\n",
      "Teacher Details\n",
      "Name :- Basit\n",
      "Age :- 28\n",
      "Gender :- Male\n",
      "Name :- Basit\n",
      "Age :- 28\n",
      "Gender :- Male\n",
      "Employee ID :- 120\n",
      "Salary :- 30000\n",
      "\n"
     ]
    }
   ],
   "source": [
    "#super() func is used\n",
    "\n",
    "class Person:                                        #Parent Class      #MULTILEVEL INHERITANCE\n",
    "    def __init__(self,name,age,gender):\n",
    "        self.name = name\n",
    "        self.age = age\n",
    "        self.gender = gender\n",
    "\n",
    "    def PersonInfo(self):\n",
    "        print(\"Name :- {}\".format(self.name))\n",
    "        print(\"Age :- {}\".format(self.age))\n",
    "        print(\"Gender :- {}\".format(self.gender))\n",
    "\n",
    "class Student(Person):                             #Child Class\n",
    "    def __init__(self, name, age, gender,studentid,fees):\n",
    "        super().__init__(name, age, gender)\n",
    "        self.studentid = studentid\n",
    "        self.fees = fees\n",
    "\n",
    "    def StudentInfo(self):\n",
    "        super().PersonInfo()\n",
    "        print(\"Student ID :- {}\".format(self.studentid))\n",
    "        print(\"Fees :- {}\".format(self.fees))    \n",
    "\n",
    "class Teacher(Person):                             #Child Class  \n",
    "    def __init__(self, name, age, gender,empid,salary):\n",
    "        super().__init__(name, age, gender)\n",
    "        self.empid = empid\n",
    "        self.salary = salary\n",
    "\n",
    "    def TeacherInfo(self):\n",
    "        super().PersonInfo()\n",
    "        print(\"Employee ID :- {}\".format(self.empid))\n",
    "        print(\"Salary :- {}\".format(self.salary))\n",
    "\n",
    "stud1 = Student(\"Arif\",23,\"Male\",112,2000)\n",
    "print(\"Student Details\")\n",
    "\n",
    "stud1.PersonInfo()                                 #PersonInfo() method in parent class is accessed\n",
    "stud1.StudentInfo()\n",
    "print()\n",
    "\n",
    "\n",
    "teach1 = Teacher(\"Basit\",28,\"Male\",120,30000)\n",
    "print(\"Teacher Details\")\n",
    "\n",
    "teach1.PersonInfo()\n",
    "teach1.TeacherInfo()\n",
    "print()"
   ]
  },
  {
   "cell_type": "code",
   "execution_count": 10,
   "id": "add93c69",
   "metadata": {},
   "outputs": [
    {
     "name": "stdout",
     "output_type": "stream",
     "text": [
      "Employee Details\n",
      "Name :- Basit\n",
      "Age :- 28\n",
      "Gender :- Male\n",
      "Employee ID :- 120\n",
      "Salary :- 30000\n",
      "Contract Expiry :- 12-12-2032\n",
      "\n"
     ]
    }
   ],
   "source": [
    "class Person:                                        #Parent Class    \n",
    "    def __init__(self,name,age,gender):\n",
    "        self.name = name\n",
    "        self.age = age\n",
    "        self.gender = gender\n",
    "\n",
    "    def PersonInfo(self):\n",
    "        print(\"Name :- {}\".format(self.name))\n",
    "        print(\"Age :- {}\".format(self.age))\n",
    "        print(\"Gender :- {}\".format(self.gender))\n",
    "\n",
    "class employee(Person):                             #Child Class  \n",
    "    def __init__(self, name, age, gender,empid,salary):\n",
    "        Person.__init__(self,name, age, gender)\n",
    "        self.empid = empid\n",
    "        self.salary = salary\n",
    "\n",
    "    def employeeInfo(self):\n",
    "        print(\"Employee ID :- {}\".format(self.empid))\n",
    "        print(\"Salary :- {}\".format(self.salary))   \n",
    "\n",
    "class fulltime(employee):                         #GrandChild Class         \n",
    "    def __init__(self, name, age, gender, empid, salary,WorkExperience):\n",
    "        employee.__init__(self,name, age, gender, empid, salary)\n",
    "        self.WorkExperience = WorkExperience\n",
    "    \n",
    "    def FulltimeInfo(self):\n",
    "        print(\"Work Experience :- {}\".format(self.WorkExperience)) \n",
    "\n",
    "class Contractual(employee):                       #GrandChild Class  \n",
    "    def __init__(self, name, age, gender, empid, salary,ContractExp):\n",
    "        employee.__init__(self,name, age, gender, empid, salary)\n",
    "        self.ContractExp = ContractExp                            \n",
    "\n",
    "    def ContractInfo(self):\n",
    "        print(\"Contract Expiry :- {}\".format(self.ContractExp))\n",
    "\n",
    "emp3 = Contractual(\"Basit\",28,\"Male\",120,30000,'12-12-2032')\n",
    "print(\"Employee Details\")\n",
    "\n",
    "emp3.PersonInfo()\n",
    "emp3.employeeInfo()\n",
    "emp3.ContractInfo()\n",
    "print()     "
   ]
  },
  {
   "cell_type": "markdown",
   "id": "76103f44",
   "metadata": {},
   "source": [
    "MULTIPLE INHERITANCE\n",
    "\n",
    "Multiple Parent class  one Base class"
   ]
  },
  {
   "cell_type": "markdown",
   "id": "9c6088a6",
   "metadata": {},
   "source": [
    "1. Create a base class Employee with atributes Name and Salary and methods CalculateBonus and __str__ (to return empname and salary as a string) then create subclasses Manager and Developer that inherit from employee. The Manager class should have an additional atribute Bonuspercentage and override the CalculateBonus method to include the Bonus in salary calculation, The Developer class should have an additional atribute Programminglanguage and override the __str__ method to include the Programminglanguage in the string representation."
   ]
  },
  {
   "cell_type": "code",
   "execution_count": 8,
   "id": "56519b83",
   "metadata": {},
   "outputs": [
    {
     "name": "stdout",
     "output_type": "stream",
     "text": [
      "Programming Language:- C\n",
      "Name :- Messi\n",
      "Salary :- 10000\n",
      "None\n",
      "\n",
      "\n",
      "Bonus:- 6000.0\n",
      "Name :- Scaloni\n",
      "Salary :- 30000\n",
      "None\n"
     ]
    }
   ],
   "source": [
    "class Employee:\n",
    "    def __init__(self,Name,Salary):\n",
    "        self.Name = Name\n",
    "        self.Salary = Salary\n",
    "   \n",
    "    def CalculateBonus(self):\n",
    "        return self.Salary\n",
    "\n",
    "    def __str__(self):\n",
    "        print(\"Name :- {}\".format(self.Name))\n",
    "        print(\"Salary :- {}\".format(self.Salary))\n",
    "        \n",
    "    \n",
    "class Manager(Employee):\n",
    "    def __init__(self, Name, Salary,Bonusperc):\n",
    "        super().__init__(Name, Salary)\n",
    "        self.Bonusperc = Bonusperc\n",
    "        self.Bonusperc = ((Bonusperc/100)*self.Salary)\n",
    "\n",
    "    def __str__(self):\n",
    "        print(\"\\n\")\n",
    "        print(\"Bonus:- {}\".format(self.Bonusperc))\n",
    "        return super().__str__()\n",
    "          \n",
    "        \n",
    "class Developer(Employee):\n",
    "    def __init__(self, Name, Salary,pgmlang):\n",
    "        super().__init__(Name, Salary)  \n",
    "        self.pgmlang = pgmlang \n",
    "\n",
    "    def __str__(self):\n",
    "        print(\"Programming Language:- {}\".format(self.pgmlang))\n",
    "        return super().__str__()       \n",
    "        \n",
    "    \n",
    "\n",
    "em1 = Developer(\"Messi\",10000,\"C\")\n",
    "print(em1.__str__())\n",
    "em2 = Manager(\"Scaloni\",30000,20)\n",
    "print(em2.__str__())"
   ]
  }
 ],
 "metadata": {
  "kernelspec": {
   "display_name": "Python 3 (ipykernel)",
   "language": "python",
   "name": "python3"
  },
  "language_info": {
   "codemirror_mode": {
    "name": "ipython",
    "version": 3
   },
   "file_extension": ".py",
   "mimetype": "text/x-python",
   "name": "python",
   "nbconvert_exporter": "python",
   "pygments_lexer": "ipython3",
   "version": "3.11.9"
  }
 },
 "nbformat": 4,
 "nbformat_minor": 5
}
